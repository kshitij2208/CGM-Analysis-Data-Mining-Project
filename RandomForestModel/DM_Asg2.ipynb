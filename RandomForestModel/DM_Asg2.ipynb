{
 "cells": [
  {
   "cell_type": "code",
   "execution_count": 2,
   "metadata": {
    "colab": {
     "base_uri": "https://localhost:8080/",
     "height": 819
    },
    "colab_type": "code",
    "id": "XlABZOzCm-7p",
    "outputId": "7a4c34f4-aa72-4e4c-c84b-9c2a342eceaa"
   },
   "outputs": [
    {
     "name": "stdout",
     "output_type": "stream",
     "text": []
    },
    {
     "data": {
      "application/vnd.colab-display-data+json": {
       "pip_warning": {
        "packages": [
         "pandas"
        ]
       }
      }
     },
     "metadata": {
      "tags": []
     },
     "output_type": "display_data"
    }
   ],
   "source": [
    "from matplotlib import pyplot as plt\n",
    "import pandas as pd\n",
    "import numpy as np\n",
    "import pywt\n",
    "from tsfresh.feature_extraction import feature_calculators\n",
    "from sklearn import preprocessing\n",
    "from sklearn.decomposition import PCA"
   ]
  },
  {
   "cell_type": "code",
   "execution_count": 3,
   "metadata": {
    "colab": {
     "base_uri": "https://localhost:8080/",
     "height": 170
    },
    "colab_type": "code",
    "id": "ZuzcFlWyofoj",
    "outputId": "f7dfc0d9-bfa5-4e33-a0c9-f6800983c067"
   },
   "outputs": [
    {
     "name": "stdout",
     "output_type": "stream",
     "text": [
      "    0    1    2    3    4    5   ...     24     25     26     27     28     29\n",
      "0  221  232  240  244  245  246  ...  245.0  242.0  239.0  235.0  231.0  226.0\n",
      "1   55   62   70   79   89  100  ...  144.0  139.0  138.0  138.0  139.0  139.0\n",
      "2  214  213  211  210  205  200  ...   79.0   79.0   81.0   82.0   84.0   86.0\n",
      "3  226  224  228  222  214  206  ...  143.0  148.0  149.0  148.0  153.0  155.0\n",
      "4  188  181  176  174  172  170  ...  100.0   99.0  100.0  101.0  100.0   95.0\n",
      "\n",
      "[5 rows x 30 columns]\n",
      "(463, 30)\n"
     ]
    }
   ],
   "source": [
    "cgm = pd.read_csv('CSE572/mealData1.csv', usecols=list(range(30)) , names=list(range(30)) )\n",
    "labels = []\n",
    "for i in range(2,6):\n",
    "    tmp = pd.read_csv('CSE572/mealData'+str(i)+'.csv', usecols=list(range(30)) , names=list(range(30)))\n",
    "    cgm = cgm.append(tmp)\n",
    "\n",
    "labels.extend([1]*cgm.shape[0])\n",
    "\n",
    "for i in range(1,6):\n",
    "    tmp = pd.read_csv('CSE572/Nomeal'+str(i)+'.csv', usecols=list(range(30)) , names=list(range(30)))\n",
    "    cgm = cgm.append(tmp)\n",
    "    labels.extend([0]*tmp.shape[0])\n",
    "\n",
    "print(cgm.head())\n",
    "print(cgm.shape)\n",
    "cgm = cgm.astype('float')#.values\n",
    "nrows = cgm.shape[0]\n",
    "ncolumns = cgm.shape[1]"
   ]
  },
  {
   "cell_type": "code",
   "execution_count": 0,
   "metadata": {
    "colab": {},
    "colab_type": "code",
    "id": "rMTr581Wt7ft"
   },
   "outputs": [],
   "source": [
    "degree = 7\n",
    "polyCoeff = np.zeros((nrows,degree+1))\n",
    "for i in range(nrows): polyCoeff[i,:] = np.polyfit(range(0,150,5),cgm.iloc[i,:], deg=degree)\n",
    "#print(polyCoeff)\n",
    "\n",
    "fft = np.zeros((nrows,ncolumns))\n",
    "for i in range(nrows):\n",
    "    temp = np.fft.fft(cgm.iloc[i,:])\n",
    "    fft[i,:] = np.absolute(temp)\n",
    "#print(fft)\n",
    "\n",
    "dwt_coeff = []\n",
    "for i in range(nrows):\n",
    "\n",
    "    (data, coeff_d) = pywt.dwt(cgm.iloc[i,:], 'db2')\n",
    "    (data, coeff_d) = pywt.dwt(data, 'db2') # Apply 2 levels of approximation\n",
    "    #print(len(coeff_d))\n",
    "    dwt_coeff.append(coeff_d)\n",
    "\n",
    "kurtosis = []\n",
    "for i in range(nrows): kurtosis.append(feature_calculators.kurtosis(cgm.iloc[i,:]))\n",
    "#print(kurtosis)\n",
    "\n",
    "LAGE = np.zeros(nrows)\n",
    "for i in range(nrows):\n",
    "    LAGE[i] = np.max(cgm.iloc[i,:]) - np.min(cgm.iloc[i,:])\n",
    "#print(lage)\n",
    "\"\"\"\n",
    "CGM_new = 1.509*(np.log(cgm)**1.084 - 5.381)\n",
    "risk = 10*CGM_new**2\n",
    "\n",
    "LBGI = np.zeros(nrows) ##Feature 2: Low Blood Glucose Index(LBGI)\n",
    "HBGI = np.zeros(nrows) ##Feature 3: High Blood Glucose Index(HBGI)\n",
    "\n",
    "for i in range(nrows):\n",
    "    k=0\n",
    "    for j in range(ncolumns):\n",
    "        if CGM_new.iloc[i][j] < 0:\n",
    "            LBGI[i] += risk.iloc[i][j]\n",
    "            k+=1\n",
    "        elif CGM_new.iloc[i][j] > 0:\n",
    "            HBGI[i] += risk.iloc[i][j]\n",
    "            k+=1\n",
    "    if(k != 0):\n",
    "        LBGI[i] = LBGI[i]/k\n",
    "        HBGI[i] = HBGI[i]/k\n",
    "\"\"\"\n",
    "TIR = np.zeros(nrows)\n",
    "for i in range(nrows):\n",
    "    for j in range(1,ncolumns):\n",
    "        if cgm.iloc[i][j] > 80.0 and cgm.iloc[i][j] < 180.0:\n",
    "            TIR[i] += cgm.iloc[i][j] - cgm.iloc[i][j-1]\n",
    "    TIR[i] = TIR[i]*-1\n",
    "\n",
    "CONGA = np.zeros(nrows)\n",
    "for i in range(nrows):\n",
    "    temp = []\n",
    "    for j in range(ncolumns-6):\n",
    "        if  not pd.isnull(cgm.iloc[i][j+6]) and not pd.isnull(cgm.iloc[i][j]):\n",
    "            temp.append(cgm.iloc[i][j+6] - cgm.iloc[i][j])\n",
    "    if temp == []:\n",
    "        CONGA[i] = 0\n",
    "    else:\n",
    "        CONGA[i] = np.std(temp)\n",
    "\n",
    "fea_mat = ['']*nrows\n",
    "for i in range(nrows):\n",
    "    fea_mat[i] = np.concatenate((polyCoeff[i],fft[i,:8],dwt_coeff[i], np.asarray([kurtosis[i], LAGE[i], TIR[i], CONGA[i]])))\n",
    "\n",
    "fea_mat = np.asarray(fea_mat)\n",
    "nor_mat = preprocessing.normalize(fea_mat,axis=0, norm='max')"
   ]
  },
  {
   "cell_type": "markdown",
   "metadata": {
    "colab_type": "text",
    "id": "WAVhjocqXbne"
   },
   "source": [
    "## Calculate the best number of components to be chosen for PCA"
   ]
  },
  {
   "cell_type": "code",
   "execution_count": 37,
   "metadata": {
    "colab": {
     "base_uri": "https://localhost:8080/",
     "height": 296
    },
    "colab_type": "code",
    "id": "Ixn3LBXe2R40",
    "outputId": "c98b896e-50e8-4202-b467-6e5e3c34fe31"
   },
   "outputs": [
    {
     "data": {
      "text/plain": [
       "Text(0, 0.5, 'cumulative explained variance')"
      ]
     },
     "execution_count": 37,
     "metadata": {
      "tags": []
     },
     "output_type": "execute_result"
    },
    {
     "data": {
      "image/png": "[encoded data removed]",
      "text/plain": [
       "<Figure size 432x288 with 1 Axes>"
      ]
     },
     "metadata": {
      "tags": []
     },
     "output_type": "display_data"
    }
   ],
   "source": [
    "pca1 = PCA().fit(nor_mat.data)\n",
    "plt.plot(np.cumsum(pca1.explained_variance_ratio_))\n",
    "plt.xlabel('number of components')\n",
    "plt.ylabel('cumulative explained variance')"
   ]
  },
  {
   "cell_type": "markdown",
   "metadata": {
    "colab_type": "text",
    "id": "nxIPBQaHXk1T"
   },
   "source": [
    "##Apply PCA to dataset"
   ]
  },
  {
   "cell_type": "code",
   "execution_count": 38,
   "metadata": {
    "colab": {
     "base_uri": "https://localhost:8080/",
     "height": 85
    },
    "colab_type": "code",
    "id": "VrI_YQAK4AlZ",
    "outputId": "6a076ef5-f6ce-4846-b237-3d77c4fb611a"
   },
   "outputs": [
    {
     "name": "stdout",
     "output_type": "stream",
     "text": [
      "[0.73941189 0.25179312 0.16986507 0.13129392 0.10278006 0.08704948\n",
      " 0.06848665 0.05220742 0.0465812  0.03087683]\n",
      "[0.41145107 0.1401121  0.09452264 0.07305945 0.0571927  0.04843931\n",
      " 0.03810989 0.02905119 0.02592044 0.01718163]\n"
     ]
    }
   ],
   "source": [
    "pca = PCA(n_components=10)#Top 10 Features selected\n",
    "dataset = pca.fit_transform(nor_mat)\n",
    "#for i in range(len(dataset)):\n",
    "#    print(dataset[i])\n",
    "#print(pca.components_)\n",
    "print(pca.explained_variance_)\n",
    "print(pca.explained_variance_ratio_)"
   ]
  },
  {
   "cell_type": "markdown",
   "metadata": {
    "colab_type": "text",
    "id": "ys4Z6TsJXpUv"
   },
   "source": [
    "## Train and Test Random Forest"
   ]
  },
  {
   "cell_type": "code",
   "execution_count": 39,
   "metadata": {
    "colab": {
     "base_uri": "https://localhost:8080/",
     "height": 221
    },
    "colab_type": "code",
    "id": "LPoCR6_c4T3U",
    "outputId": "5bc8265f-b67e-4cb3-83f7-b1a006b4ac4a"
   },
   "outputs": [
    {
     "name": "stdout",
     "output_type": "stream",
     "text": [
      "[[35 10]\n",
      " [16 32]]\n",
      "              precision    recall  f1-score   support\n",
      "\n",
      "           0       0.69      0.78      0.73        45\n",
      "           1       0.76      0.67      0.71        48\n",
      "\n",
      "    accuracy                           0.72        93\n",
      "   macro avg       0.72      0.72      0.72        93\n",
      "weighted avg       0.73      0.72      0.72        93\n",
      "\n",
      "0.7204301075268817\n"
     ]
    }
   ],
   "source": [
    "from sklearn.model_selection import train_test_split\n",
    "\n",
    "X_train, X_test, y_train, y_test = train_test_split(dataset, labels, test_size=0.2, random_state=0)\n",
    "\n",
    "from sklearn.ensemble import RandomForestClassifier\n",
    "\n",
    "regressor = RandomForestClassifier(n_estimators=250, random_state=0,)\n",
    "regressor.fit(X_train, y_train)\n",
    "y_pred = regressor.predict(X_test)\n",
    "\n",
    "from sklearn.metrics import classification_report, confusion_matrix, accuracy_score\n",
    "\n",
    "print(confusion_matrix(y_test,y_pred))\n",
    "print(classification_report(y_test,y_pred))\n",
    "print(accuracy_score(y_test, y_pred))"
   ]
  },
  {
   "cell_type": "code",
   "execution_count": 0,
   "metadata": {
    "colab": {},
    "colab_type": "code",
    "id": "Q4INBv_YIVp-"
   },
   "outputs": [],
   "source": []
  }
 ],
 "metadata": {
  "colab": {
   "collapsed_sections": [],
   "name": "DM_Asg2",
   "provenance": []
  },
  "kernelspec": {
   "display_name": "Python 3",
   "language": "python",
   "name": "python3"
  }
 },
 "nbformat": 4,
 "nbformat_minor": 1
}
